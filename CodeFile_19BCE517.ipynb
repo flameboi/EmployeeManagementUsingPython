{
 "cells": [
  {
   "cell_type": "markdown",
   "metadata": {},
   "source": [
    "# SUBJECT:  2CS404 PSC LEARNING ASSIGNMENT\n",
    "ROLL NO:  19BCE517,\n",
    "Semester: 4th,\n",
    "Name:     Nimbark Param,\n",
    "Division: C"
   ]
  },
  {
   "cell_type": "markdown",
   "metadata": {},
   "source": [
    "Note: When you evaluate my code, make sure you have put both csv files in same folder which I have attached in zip file : \"Employee.csv\" and \"Employee2.csv\""
   ]
  },
  {
   "cell_type": "markdown",
   "metadata": {},
   "source": [
    "# QUESTION 1:\n",
    "Create Employee.CSV file which contain following\n",
    "details of employee.\n",
    "Employee: Name, City, Company name, Basic\n",
    "Salary\n",
    "Take input from the user and store 10 records in file [10 Marks]:"
   ]
  },
  {
   "cell_type": "code",
   "execution_count": 1,
   "metadata": {},
   "outputs": [
    {
     "name": "stdout",
     "output_type": "stream",
     "text": [
      "Enter Name, City, Company name Basic Salary:\n",
      "Enter name:param\n",
      "Enter city:Ahmedabad\n",
      "Enter Company name:Nirma\n",
      "Enter Salary:30000\n",
      "Enter name:Parth\n",
      "Enter city:Surat\n",
      "Enter Company name:DIT\n",
      "Enter Salary:20000\n",
      "Enter name:Akash\n",
      "Enter city:Bhuj\n",
      "Enter Company name:Gpp\n",
      "Enter Salary:25000\n",
      "Enter name:Bharat\n",
      "Enter city:Ahmedabad\n",
      "Enter Company name:Ljp\n",
      "Enter Salary:15000\n",
      "Enter name:Jeet\n",
      "Enter city:Vadodra\n",
      "Enter Company name:SuryaFarma\n",
      "Enter Salary:20000\n",
      "Enter name:Khushaal\n",
      "Enter city:Ahmedabad\n",
      "Enter Company name:Nirma\n",
      "Enter Salary:29500\n",
      "Enter name:Rajesh\n",
      "Enter city:Valsad\n",
      "Enter Company name:Ldrp\n",
      "Enter Salary:34000\n",
      "Enter name:Monil\n",
      "Enter city:Idar\n",
      "Enter Company name:JkTech\n",
      "Enter Salary:9000\n",
      "Enter name:Vishvesh\n",
      "Enter city:Pune\n",
      "Enter Company name:DkTech\n",
      "Enter Salary:6500\n",
      "Enter name:Zaid\n",
      "Enter city:Gurgaon\n",
      "Enter Company name:MZTech\n",
      "Enter Salary:16000\n",
      "       Name       City CompanyName BasicSalary\n",
      "0     param  Ahmedabad       Nirma       30000\n",
      "1     Parth      Surat         DIT       20000\n",
      "2     Akash       Bhuj         Gpp       25000\n",
      "3    Bharat  Ahmedabad         Ljp       15000\n",
      "4      Jeet    Vadodra  SuryaFarma       20000\n",
      "5  Khushaal  Ahmedabad       Nirma       29500\n",
      "6    Rajesh     Valsad        Ldrp       34000\n",
      "7     Monil       Idar      JkTech        9000\n",
      "8  Vishvesh       Pune      DkTech        6500\n",
      "9      Zaid    Gurgaon      MZTech       16000\n"
     ]
    }
   ],
   "source": [
    "#imoporting packages\n",
    "import matplotlib.pyplot                                  \n",
    "import pandas as pd\n",
    "import numpy as np\n",
    "\n",
    "\n",
    "#creating a fuction that creates dataframe containing fields : Name, City, CompanyName, BasicSalary\n",
    "\n",
    "\n",
    "def values_insert():                                                 #creating function : values_insert\n",
    "    print(\"Enter Name, City, Company name Basic Salary:\")   \n",
    "    \n",
    "    df = pd.DataFrame(\n",
    "        \n",
    "                     {\n",
    "                       \"Name\":input(\"Enter name:\"),                  #takes \"name\" from user and stores in dataframe df\n",
    "                       \"City\":input(\"Enter city:\"),                  #takes \"city\" name from user and stores in dataframe df\n",
    "                       \"CompanyName\":input(\"Enter Company name:\"),   #takes \"Companyname\" from user and stores in dataframe df\n",
    "                       \"BasicSalary\":input(\"Enter Salary:\")          #takes \"salary\" from user and stores in dataframe df\n",
    "                      }\n",
    "                        for i in range(10))                           #for loop to iterate loop 10 times which will take values 10 times from user \n",
    "    \n",
    "    \n",
    "    print(df)                                                        #printing dataframe values\n",
    "    \n",
    "    \n",
    "    #Converting DataFrame to CSV \n",
    "    \n",
    "    \n",
    "    df.to_csv('Employee.csv')                                        #df DataFrame will be converted to \"Employee.csv\" file                                      \n",
    "    \n",
    "\n",
    "#Calling a function that we just created:    \n",
    "    \n",
    "values_insert()                                                      #Function call\n"
   ]
  },
  {
   "cell_type": "markdown",
   "metadata": {},
   "source": [
    "# Explaination:\n",
    "\n",
    "Here, I have created a function named \"vales_insert\" in which I have created a DataFrame named \"df\", using pandas               which is taking These vallues: Name, City, Company name, Basic Salary.\n",
    "             \n",
    "At the end of the dataframe df, I have used for loop with range = 10 which will iterate the process of taking                   input from user 10 times and store values in dataframe df.\n",
    "              \n",
    "After that we have used \"to_csv()\" function to convert our data frame into csv file.\n",
    "              \n",
    "And at last, we have called our function \"values_insert\" which will seek processes to continue                              "
   ]
  },
  {
   "cell_type": "markdown",
   "metadata": {},
   "source": [
    "# Question 2:\n",
    "Update Employee.CSV file as follow:\n",
    "Add column Gross salary (GS)\n",
    "GS = Basic + DA( 12% of Basic) + HRA(5% of Basic)                                              [10 Marks] :"
   ]
  },
  {
   "cell_type": "code",
   "execution_count": 18,
   "metadata": {},
   "outputs": [
    {
     "name": "stdout",
     "output_type": "stream",
     "text": [
      "Gross Salary is:\n",
      "0    35100.0\n",
      "1    23400.0\n",
      "2    29250.0\n",
      "3    17550.0\n",
      "4    23400.0\n",
      "5    34515.0\n",
      "6    39780.0\n",
      "7    10530.0\n",
      "8     7605.0\n",
      "9    18720.0\n",
      "Name: BasicSalary, dtype: float64\n"
     ]
    },
    {
     "data": {
      "text/html": [
       "<div>\n",
       "<style scoped>\n",
       "    .dataframe tbody tr th:only-of-type {\n",
       "        vertical-align: middle;\n",
       "    }\n",
       "\n",
       "    .dataframe tbody tr th {\n",
       "        vertical-align: top;\n",
       "    }\n",
       "\n",
       "    .dataframe thead th {\n",
       "        text-align: right;\n",
       "    }\n",
       "</style>\n",
       "<table border=\"1\" class=\"dataframe\">\n",
       "  <thead>\n",
       "    <tr style=\"text-align: right;\">\n",
       "      <th></th>\n",
       "      <th>Unnamed: 0</th>\n",
       "      <th>Name</th>\n",
       "      <th>City</th>\n",
       "      <th>CompanyName</th>\n",
       "      <th>BasicSalary</th>\n",
       "      <th>Gross Salary</th>\n",
       "    </tr>\n",
       "  </thead>\n",
       "  <tbody>\n",
       "    <tr>\n",
       "      <td>0</td>\n",
       "      <td>0</td>\n",
       "      <td>param</td>\n",
       "      <td>Ahmedabad</td>\n",
       "      <td>Nirma</td>\n",
       "      <td>30000</td>\n",
       "      <td>35100.0</td>\n",
       "    </tr>\n",
       "    <tr>\n",
       "      <td>1</td>\n",
       "      <td>1</td>\n",
       "      <td>Parth</td>\n",
       "      <td>Surat</td>\n",
       "      <td>DIT</td>\n",
       "      <td>20000</td>\n",
       "      <td>23400.0</td>\n",
       "    </tr>\n",
       "    <tr>\n",
       "      <td>2</td>\n",
       "      <td>2</td>\n",
       "      <td>Akash</td>\n",
       "      <td>Bhuj</td>\n",
       "      <td>Gpp</td>\n",
       "      <td>25000</td>\n",
       "      <td>29250.0</td>\n",
       "    </tr>\n",
       "    <tr>\n",
       "      <td>3</td>\n",
       "      <td>3</td>\n",
       "      <td>Bharat</td>\n",
       "      <td>Ahmedabad</td>\n",
       "      <td>Ljp</td>\n",
       "      <td>15000</td>\n",
       "      <td>17550.0</td>\n",
       "    </tr>\n",
       "    <tr>\n",
       "      <td>4</td>\n",
       "      <td>4</td>\n",
       "      <td>Jeet</td>\n",
       "      <td>Vadodra</td>\n",
       "      <td>SuryaFarma</td>\n",
       "      <td>20000</td>\n",
       "      <td>23400.0</td>\n",
       "    </tr>\n",
       "    <tr>\n",
       "      <td>5</td>\n",
       "      <td>5</td>\n",
       "      <td>Khushaal</td>\n",
       "      <td>Ahmedabad</td>\n",
       "      <td>Nirma</td>\n",
       "      <td>29500</td>\n",
       "      <td>34515.0</td>\n",
       "    </tr>\n",
       "    <tr>\n",
       "      <td>6</td>\n",
       "      <td>6</td>\n",
       "      <td>Rajesh</td>\n",
       "      <td>Valsad</td>\n",
       "      <td>Ldrp</td>\n",
       "      <td>34000</td>\n",
       "      <td>39780.0</td>\n",
       "    </tr>\n",
       "    <tr>\n",
       "      <td>7</td>\n",
       "      <td>7</td>\n",
       "      <td>Monil</td>\n",
       "      <td>Idar</td>\n",
       "      <td>JkTech</td>\n",
       "      <td>9000</td>\n",
       "      <td>10530.0</td>\n",
       "    </tr>\n",
       "    <tr>\n",
       "      <td>8</td>\n",
       "      <td>8</td>\n",
       "      <td>Vishvesh</td>\n",
       "      <td>Pune</td>\n",
       "      <td>DkTech</td>\n",
       "      <td>6500</td>\n",
       "      <td>7605.0</td>\n",
       "    </tr>\n",
       "    <tr>\n",
       "      <td>9</td>\n",
       "      <td>9</td>\n",
       "      <td>Zaid</td>\n",
       "      <td>Gurgaon</td>\n",
       "      <td>MZTech</td>\n",
       "      <td>16000</td>\n",
       "      <td>18720.0</td>\n",
       "    </tr>\n",
       "  </tbody>\n",
       "</table>\n",
       "</div>"
      ],
      "text/plain": [
       "   Unnamed: 0      Name       City CompanyName  BasicSalary  Gross Salary\n",
       "0           0     param  Ahmedabad       Nirma        30000       35100.0\n",
       "1           1     Parth      Surat         DIT        20000       23400.0\n",
       "2           2     Akash       Bhuj         Gpp        25000       29250.0\n",
       "3           3    Bharat  Ahmedabad         Ljp        15000       17550.0\n",
       "4           4      Jeet    Vadodra  SuryaFarma        20000       23400.0\n",
       "5           5  Khushaal  Ahmedabad       Nirma        29500       34515.0\n",
       "6           6    Rajesh     Valsad        Ldrp        34000       39780.0\n",
       "7           7     Monil       Idar      JkTech         9000       10530.0\n",
       "8           8  Vishvesh       Pune      DkTech         6500        7605.0\n",
       "9           9      Zaid    Gurgaon      MZTech        16000       18720.0"
      ]
     },
     "execution_count": 18,
     "metadata": {},
     "output_type": "execute_result"
    }
   ],
   "source": [
    "#importing packages\n",
    "import pandas as pd\n",
    "\n",
    "df = pd.read_csv (r'Employee.csv')                                 #reading data from \"Employee.csv\" file\n",
    "\n",
    "\n",
    "BasicSalary = df['BasicSalary']                                    #Assigning values of BasicSalary from dataframe to variable\n",
    "\n",
    "\n",
    "#GS = Basic + DA( 12% of Basic) + HRA(5% of Basic)\n",
    "\n",
    "DA = (BasicSalary * 12) / 100                                      #12% of DA\n",
    "HRA = (BasicSalary * 5) / 100                                      #5% of HRA\n",
    "GSS = BasicSalary + DA + HRA                                       #GSS = Variable that holds calculated Gross Salary\n",
    "print(\"Gross Salary is:\")\n",
    "print(GSS)                                                         #printing Gross Salary of all users\n",
    "\n",
    "GS = pd.DataFrame(GSS)                                             #creating DataFrame of Gross Salary\n",
    "\n",
    "dff=pd.DataFrame(df)                                               #copying df DataFrame to dff object\n",
    "dff['Gross Salary']=GS                                             #ADDING GROSS SALARY DATAFRAME TO dff DATAFRAME\n",
    "                                                             \n",
    "\n",
    "dff.to_csv('Employee2.csv')                                        #Making another csv having updated column \"Gross Salary\"\n",
    "\n",
    "dff                                                                #Printing dff DataFrame Including Gross Salary Column"
   ]
  },
  {
   "cell_type": "markdown",
   "metadata": {},
   "source": [
    "# Explaination:\n",
    "Here, I have first opened and read values of Employee.csv file that we created in question 1.\n",
    "\n",
    "Then, I assigned  values of BasicSalary from dataframe to variable called BAsicSalary\n",
    "\n",
    "After that I created GSS variable and assigned values to calculate Gross Salary :\n",
    "DA = (BasicSalary * 12) / 100                                     \n",
    "HRA = (BasicSalary * 5) / 100                                      \n",
    "GSS = BasicSalary + DA + HRA\n",
    "\n",
    "Then i created dataframe of Gross Salary And added Column \"GrossSalary\" in our DataFrame df.\n",
    "\n",
    "After that, I converted dff to 2nd csv file named \"Employee2.csv\" using : dff.to_csv('Employee2').\n"
   ]
  },
  {
   "cell_type": "markdown",
   "metadata": {},
   "source": [
    "# QUESTION 3:\n",
    "Plot graph Employee Vs salary [10 Marks]"
   ]
  },
  {
   "cell_type": "code",
   "execution_count": 19,
   "metadata": {},
   "outputs": [
    {
     "name": "stdout",
     "output_type": "stream",
     "text": [
      "Column names:\n",
      "['Unnamed: 0', 'Unnamed: 0.1', 'Name', 'City', 'CompanyName', 'BasicSalary', 'Gross Salary']\n",
      "\n",
      "\n",
      "\n",
      "Employee VS Salary:\n"
     ]
    },
    {
     "data": {
      "text/html": [
       "<div>\n",
       "<style scoped>\n",
       "    .dataframe tbody tr th:only-of-type {\n",
       "        vertical-align: middle;\n",
       "    }\n",
       "\n",
       "    .dataframe tbody tr th {\n",
       "        vertical-align: top;\n",
       "    }\n",
       "\n",
       "    .dataframe thead th {\n",
       "        text-align: right;\n",
       "    }\n",
       "</style>\n",
       "<table border=\"1\" class=\"dataframe\">\n",
       "  <thead>\n",
       "    <tr style=\"text-align: right;\">\n",
       "      <th></th>\n",
       "      <th>Unnamed: 0</th>\n",
       "      <th>Unnamed: 0.1</th>\n",
       "      <th>Name</th>\n",
       "      <th>City</th>\n",
       "      <th>CompanyName</th>\n",
       "      <th>BasicSalary</th>\n",
       "      <th>Gross Salary</th>\n",
       "    </tr>\n",
       "  </thead>\n",
       "  <tbody>\n",
       "    <tr>\n",
       "      <td>0</td>\n",
       "      <td>0</td>\n",
       "      <td>0</td>\n",
       "      <td>param</td>\n",
       "      <td>Ahmedabad</td>\n",
       "      <td>Nirma</td>\n",
       "      <td>30000</td>\n",
       "      <td>35100.0</td>\n",
       "    </tr>\n",
       "    <tr>\n",
       "      <td>1</td>\n",
       "      <td>1</td>\n",
       "      <td>1</td>\n",
       "      <td>Parth</td>\n",
       "      <td>Surat</td>\n",
       "      <td>DIT</td>\n",
       "      <td>20000</td>\n",
       "      <td>23400.0</td>\n",
       "    </tr>\n",
       "    <tr>\n",
       "      <td>2</td>\n",
       "      <td>2</td>\n",
       "      <td>2</td>\n",
       "      <td>Akash</td>\n",
       "      <td>Bhuj</td>\n",
       "      <td>Gpp</td>\n",
       "      <td>25000</td>\n",
       "      <td>29250.0</td>\n",
       "    </tr>\n",
       "    <tr>\n",
       "      <td>3</td>\n",
       "      <td>3</td>\n",
       "      <td>3</td>\n",
       "      <td>Bharat</td>\n",
       "      <td>Ahmedabad</td>\n",
       "      <td>Ljp</td>\n",
       "      <td>15000</td>\n",
       "      <td>17550.0</td>\n",
       "    </tr>\n",
       "    <tr>\n",
       "      <td>4</td>\n",
       "      <td>4</td>\n",
       "      <td>4</td>\n",
       "      <td>Jeet</td>\n",
       "      <td>Vadodra</td>\n",
       "      <td>SuryaFarma</td>\n",
       "      <td>20000</td>\n",
       "      <td>23400.0</td>\n",
       "    </tr>\n",
       "  </tbody>\n",
       "</table>\n",
       "</div>"
      ],
      "text/plain": [
       "   Unnamed: 0  Unnamed: 0.1    Name       City CompanyName  BasicSalary  \\\n",
       "0           0             0   param  Ahmedabad       Nirma        30000   \n",
       "1           1             1   Parth      Surat         DIT        20000   \n",
       "2           2             2   Akash       Bhuj         Gpp        25000   \n",
       "3           3             3  Bharat  Ahmedabad         Ljp        15000   \n",
       "4           4             4    Jeet    Vadodra  SuryaFarma        20000   \n",
       "\n",
       "   Gross Salary  \n",
       "0       35100.0  \n",
       "1       23400.0  \n",
       "2       29250.0  \n",
       "3       17550.0  \n",
       "4       23400.0  "
      ]
     },
     "execution_count": 19,
     "metadata": {},
     "output_type": "execute_result"
    }
   ],
   "source": [
    "%matplotlib inline                                                 \n",
    "import matplotlib.pyplot as plt\n",
    "import pandas as pd\n",
    "import numpy as np\n",
    "\n",
    "hr = pd.read_csv('Employee2.csv')                            #Reeading data from Employee2.csv and storing it into hr object                         \n",
    "col_names = hr.columns.tolist()                              #Converting DataFrames to list\n",
    "print(\"Column names:\")\n",
    "print(col_names)                                             #printing column names\n",
    "print(\"\\n\")\n",
    "print(\"\\nEmployee VS Salary:\")\n",
    "hr.head()                                                   #printing Head part of the dataframe                               \n"
   ]
  },
  {
   "cell_type": "code",
   "execution_count": 20,
   "metadata": {},
   "outputs": [],
   "source": [
    "hr=hr.rename(columns = {'BasicSalary':'gss'})              #Changing name of BasicSalary To gss for easy use"
   ]
  },
  {
   "cell_type": "code",
   "execution_count": 21,
   "metadata": {},
   "outputs": [
    {
     "data": {
      "text/plain": [
       "Unnamed: 0        int64\n",
       "Unnamed: 0.1      int64\n",
       "Name             object\n",
       "City             object\n",
       "CompanyName      object\n",
       "gss               int64\n",
       "Gross Salary    float64\n",
       "dtype: object"
      ]
     },
     "execution_count": 21,
     "metadata": {},
     "output_type": "execute_result"
    }
   ],
   "source": [
    "hr.dtypes                                                  #Displaying datatypes of our List items"
   ]
  },
  {
   "cell_type": "code",
   "execution_count": 22,
   "metadata": {},
   "outputs": [
    {
     "data": {
      "text/plain": [
       "Unnamed: 0      False\n",
       "Unnamed: 0.1    False\n",
       "Name            False\n",
       "City            False\n",
       "CompanyName     False\n",
       "gss             False\n",
       "Gross Salary    False\n",
       "dtype: bool"
      ]
     },
     "execution_count": 22,
     "metadata": {},
     "output_type": "execute_result"
    }
   ],
   "source": [
    "hr.isnull().any()                       #Checking if there is any null values in any record (Important to avoid conflicts)\n"
   ]
  },
  {
   "cell_type": "code",
   "execution_count": 23,
   "metadata": {},
   "outputs": [
    {
     "data": {
      "text/plain": [
       "(10, 7)"
      ]
     },
     "execution_count": 23,
     "metadata": {},
     "output_type": "execute_result"
    }
   ],
   "source": [
    "hr.shape                                   #Shaping of all values"
   ]
  },
  {
   "cell_type": "code",
   "execution_count": 24,
   "metadata": {},
   "outputs": [
    {
     "data": {
      "text/plain": [
       "array([30000, 20000, 25000, 15000, 29500, 34000,  9000,  6500, 16000],\n",
       "      dtype=int64)"
      ]
     },
     "execution_count": 24,
     "metadata": {},
     "output_type": "execute_result"
    }
   ],
   "source": [
    "hr['gss'].unique()                         #Using of unique constaraint for Basic Salary"
   ]
  },
  {
   "cell_type": "code",
   "execution_count": 25,
   "metadata": {},
   "outputs": [],
   "source": [
    "hr['gss']=np.where(hr['gss'] =='Name', 'EVS', hr['gss'])                #Combining Name and Basic Salary \n",
    "hr['gss']=np.where(hr['gss'] =='BasicSalary', 'EVS', hr['gss'])         #Combining Name and Basic Salary"
   ]
  },
  {
   "cell_type": "code",
   "execution_count": 26,
   "metadata": {},
   "outputs": [
    {
     "data": {
      "text/html": [
       "<div>\n",
       "<style scoped>\n",
       "    .dataframe tbody tr th:only-of-type {\n",
       "        vertical-align: middle;\n",
       "    }\n",
       "\n",
       "    .dataframe tbody tr th {\n",
       "        vertical-align: top;\n",
       "    }\n",
       "\n",
       "    .dataframe thead th {\n",
       "        text-align: right;\n",
       "    }\n",
       "</style>\n",
       "<table border=\"1\" class=\"dataframe\">\n",
       "  <thead>\n",
       "    <tr style=\"text-align: right;\">\n",
       "      <th></th>\n",
       "      <th>Unnamed: 0</th>\n",
       "      <th>Unnamed: 0.1</th>\n",
       "      <th>Gross Salary</th>\n",
       "    </tr>\n",
       "    <tr>\n",
       "      <th>gss</th>\n",
       "      <th></th>\n",
       "      <th></th>\n",
       "      <th></th>\n",
       "    </tr>\n",
       "  </thead>\n",
       "  <tbody>\n",
       "    <tr>\n",
       "      <td>15000</td>\n",
       "      <td>3.0</td>\n",
       "      <td>3.0</td>\n",
       "      <td>17550.0</td>\n",
       "    </tr>\n",
       "    <tr>\n",
       "      <td>16000</td>\n",
       "      <td>9.0</td>\n",
       "      <td>9.0</td>\n",
       "      <td>18720.0</td>\n",
       "    </tr>\n",
       "    <tr>\n",
       "      <td>20000</td>\n",
       "      <td>2.5</td>\n",
       "      <td>2.5</td>\n",
       "      <td>23400.0</td>\n",
       "    </tr>\n",
       "    <tr>\n",
       "      <td>25000</td>\n",
       "      <td>2.0</td>\n",
       "      <td>2.0</td>\n",
       "      <td>29250.0</td>\n",
       "    </tr>\n",
       "    <tr>\n",
       "      <td>29500</td>\n",
       "      <td>5.0</td>\n",
       "      <td>5.0</td>\n",
       "      <td>34515.0</td>\n",
       "    </tr>\n",
       "    <tr>\n",
       "      <td>30000</td>\n",
       "      <td>0.0</td>\n",
       "      <td>0.0</td>\n",
       "      <td>35100.0</td>\n",
       "    </tr>\n",
       "    <tr>\n",
       "      <td>34000</td>\n",
       "      <td>6.0</td>\n",
       "      <td>6.0</td>\n",
       "      <td>39780.0</td>\n",
       "    </tr>\n",
       "    <tr>\n",
       "      <td>6500</td>\n",
       "      <td>8.0</td>\n",
       "      <td>8.0</td>\n",
       "      <td>7605.0</td>\n",
       "    </tr>\n",
       "    <tr>\n",
       "      <td>9000</td>\n",
       "      <td>7.0</td>\n",
       "      <td>7.0</td>\n",
       "      <td>10530.0</td>\n",
       "    </tr>\n",
       "  </tbody>\n",
       "</table>\n",
       "</div>"
      ],
      "text/plain": [
       "       Unnamed: 0  Unnamed: 0.1  Gross Salary\n",
       "gss                                          \n",
       "15000         3.0           3.0       17550.0\n",
       "16000         9.0           9.0       18720.0\n",
       "20000         2.5           2.5       23400.0\n",
       "25000         2.0           2.0       29250.0\n",
       "29500         5.0           5.0       34515.0\n",
       "30000         0.0           0.0       35100.0\n",
       "34000         6.0           6.0       39780.0\n",
       "6500          8.0           8.0        7605.0\n",
       "9000          7.0           7.0       10530.0"
      ]
     },
     "execution_count": 26,
     "metadata": {},
     "output_type": "execute_result"
    }
   ],
   "source": [
    "hr.groupby('gss').mean()                                                #Grouping of \"Salary\" and finding mean"
   ]
  },
  {
   "cell_type": "code",
   "execution_count": 27,
   "metadata": {},
   "outputs": [
    {
     "data": {
      "text/html": [
       "<div>\n",
       "<style scoped>\n",
       "    .dataframe tbody tr th:only-of-type {\n",
       "        vertical-align: middle;\n",
       "    }\n",
       "\n",
       "    .dataframe tbody tr th {\n",
       "        vertical-align: top;\n",
       "    }\n",
       "\n",
       "    .dataframe thead th {\n",
       "        text-align: right;\n",
       "    }\n",
       "</style>\n",
       "<table border=\"1\" class=\"dataframe\">\n",
       "  <thead>\n",
       "    <tr style=\"text-align: right;\">\n",
       "      <th></th>\n",
       "      <th>Unnamed: 0</th>\n",
       "      <th>Unnamed: 0.1</th>\n",
       "      <th>Gross Salary</th>\n",
       "    </tr>\n",
       "    <tr>\n",
       "      <th>Name</th>\n",
       "      <th></th>\n",
       "      <th></th>\n",
       "      <th></th>\n",
       "    </tr>\n",
       "  </thead>\n",
       "  <tbody>\n",
       "    <tr>\n",
       "      <td>Akash</td>\n",
       "      <td>2</td>\n",
       "      <td>2</td>\n",
       "      <td>29250.0</td>\n",
       "    </tr>\n",
       "    <tr>\n",
       "      <td>Bharat</td>\n",
       "      <td>3</td>\n",
       "      <td>3</td>\n",
       "      <td>17550.0</td>\n",
       "    </tr>\n",
       "    <tr>\n",
       "      <td>Jeet</td>\n",
       "      <td>4</td>\n",
       "      <td>4</td>\n",
       "      <td>23400.0</td>\n",
       "    </tr>\n",
       "    <tr>\n",
       "      <td>Khushaal</td>\n",
       "      <td>5</td>\n",
       "      <td>5</td>\n",
       "      <td>34515.0</td>\n",
       "    </tr>\n",
       "    <tr>\n",
       "      <td>Monil</td>\n",
       "      <td>7</td>\n",
       "      <td>7</td>\n",
       "      <td>10530.0</td>\n",
       "    </tr>\n",
       "    <tr>\n",
       "      <td>Parth</td>\n",
       "      <td>1</td>\n",
       "      <td>1</td>\n",
       "      <td>23400.0</td>\n",
       "    </tr>\n",
       "    <tr>\n",
       "      <td>Rajesh</td>\n",
       "      <td>6</td>\n",
       "      <td>6</td>\n",
       "      <td>39780.0</td>\n",
       "    </tr>\n",
       "    <tr>\n",
       "      <td>Vishvesh</td>\n",
       "      <td>8</td>\n",
       "      <td>8</td>\n",
       "      <td>7605.0</td>\n",
       "    </tr>\n",
       "    <tr>\n",
       "      <td>Zaid</td>\n",
       "      <td>9</td>\n",
       "      <td>9</td>\n",
       "      <td>18720.0</td>\n",
       "    </tr>\n",
       "    <tr>\n",
       "      <td>param</td>\n",
       "      <td>0</td>\n",
       "      <td>0</td>\n",
       "      <td>35100.0</td>\n",
       "    </tr>\n",
       "  </tbody>\n",
       "</table>\n",
       "</div>"
      ],
      "text/plain": [
       "          Unnamed: 0  Unnamed: 0.1  Gross Salary\n",
       "Name                                            \n",
       "Akash              2             2       29250.0\n",
       "Bharat             3             3       17550.0\n",
       "Jeet               4             4       23400.0\n",
       "Khushaal           5             5       34515.0\n",
       "Monil              7             7       10530.0\n",
       "Parth              1             1       23400.0\n",
       "Rajesh             6             6       39780.0\n",
       "Vishvesh           8             8        7605.0\n",
       "Zaid               9             9       18720.0\n",
       "param              0             0       35100.0"
      ]
     },
     "execution_count": 27,
     "metadata": {},
     "output_type": "execute_result"
    }
   ],
   "source": [
    "hr.groupby('Name').mean()                                               #Grouping of \"Name\" and finding mean"
   ]
  },
  {
   "cell_type": "code",
   "execution_count": 30,
   "metadata": {},
   "outputs": [
    {
     "data": {
      "image/png": "[encoded data removed]",
      "text/plain": [
       "<Figure size 432x288 with 1 Axes>"
      ]
     },
     "metadata": {
      "needs_background": "light"
     },
     "output_type": "display_data"
    }
   ],
   "source": [
    "import matplotlib.pyplot as plt\n",
    "import pandas as pd\n",
    "\n",
    "# a simple line plot\n",
    "\n",
    "dff.plot(kind='bar',x='Name',y='BasicSalary', color='purple')                       #plotting graph \n",
    "plt.title('Employee VS Basic Salary:')\n",
    "plt.savefig('EmployeeVsSalary.png')                                                 #To save PNG file of this graph\n"
   ]
  },
  {
   "cell_type": "code",
   "execution_count": 32,
   "metadata": {},
   "outputs": [
    {
     "data": {
      "image/png": "[encoded data removed]",
      "text/plain": [
       "<Figure size 432x288 with 1 Axes>"
      ]
     },
     "metadata": {
      "needs_background": "light"
     },
     "output_type": "display_data"
    },
    {
     "data": {
      "text/plain": [
       "<Figure size 432x288 with 0 Axes>"
      ]
     },
     "metadata": {},
     "output_type": "display_data"
    }
   ],
   "source": [
    "import matplotlib.pyplot as plt\n",
    "import pandas as pd\n",
    "ax = plt.gca()                                                                    #gca() to take multiple axes\n",
    "dff.plot(kind='line',x='Name',y='BasicSalary', color='red', ax=ax)                #Taking multiple Axis\n",
    "dff.plot(kind='line',x='Name',y='Gross Salary', color='green', ax=ax)\n",
    "plt.title('Employee VS Basic Salary & Gross Salary:')\n",
    "plt.show()\n",
    "plt.savefig('EmployeeVsgss.png')                                                  #To save png file of this graph"
   ]
  },
  {
   "cell_type": "markdown",
   "metadata": {},
   "source": [
    "# Explaination:\n",
    "In this, I have first taken employee2.csv file as an input and read its contents\n",
    "Then I have converted its columns into list\n",
    "After that I have Grouped all column values and shaped them\n",
    "Then I checked for NULL values\n",
    "In next step, I used mean() to find mean of Salary and Name columns to plot values\n",
    "After that I plotted Employee VS Salary Graph using matplotlib.pyplot.\n"
   ]
  },
  {
   "cell_type": "markdown",
   "metadata": {},
   "source": [
    "Explaination:"
   ]
  },
  {
   "cell_type": "markdown",
   "metadata": {},
   "source": [
    "# Question 4:\n",
    "Search record from file:\n",
    "\n",
    "1. User enter the name of city and display the\n",
    "information of all the employee belongs to that\n",
    "city. [5 Marks]\n",
    "2. Display the list of employee company wise [5 Marks]"
   ]
  },
  {
   "cell_type": "code",
   "execution_count": 78,
   "metadata": {
    "scrolled": true
   },
   "outputs": [
    {
     "name": "stdout",
     "output_type": "stream",
     "text": [
      "\n",
      "enter city:Ahmedabad\n",
      "\n",
      "your city is:Ahmedabad\n",
      "\n",
      "\n",
      "Displaying all information of Employee that belongs to Ahmedabad\n",
      "\n",
      "\n",
      "   Unnamed: 0      Name       City CompanyName  BasicSalary  Gross Salary\n",
      "0           0     param  Ahmedabad       Nirma        30000       35100.0\n",
      "3           3    Bharat  Ahmedabad         Ljp        15000       17550.0\n",
      "5           5  Khushaal  Ahmedabad       Nirma        29500       34515.0\n"
     ]
    }
   ],
   "source": [
    "import pandas as pd\n",
    "\n",
    "#1st PART:\n",
    "\n",
    "a = []                                                     #creating a string a to store city that user enters                    \n",
    "a = input(\"\\nenter city:\")                                 #Taking city as an input from user\n",
    "print (\"\\nyour city is:\"  +a)                \n",
    "print(\"\\n\")\n",
    "\n",
    "a = a.split()                                               #converting string to list\n",
    "\n",
    "dff=pd.DataFrame(df)                                        #Assigning df dataframe to dff\n",
    "\n",
    "print(\"Displaying all information of Employee that belongs to \" +a[0])                 \n",
    "print(\"\\n\")\n",
    "\n",
    "print(dff.loc[dff['City'].isin(a)])                       #using isin() to filter and display only cities which match with city entered by user\n",
    "\n"
   ]
  },
  {
   "cell_type": "markdown",
   "metadata": {},
   "source": [
    "# Explaination:\n",
    "Here, I have first created a string a[], then I have taken Input string from user (city)\n",
    "After that I converted string to list using split()\n",
    "Then Passed dataframe objest df object to dff\n",
    "And after, used isin() to filter and display all corresponding details only for columns where cities entered by user matches.\n"
   ]
  },
  {
   "cell_type": "code",
   "execution_count": 122,
   "metadata": {},
   "outputs": [
    {
     "name": "stdout",
     "output_type": "stream",
     "text": [
      "\n",
      "\n",
      "Displaying list of employees company wise:\n",
      "\n",
      "\n"
     ]
    },
    {
     "data": {
      "text/html": [
       "<div>\n",
       "<style scoped>\n",
       "    .dataframe tbody tr th:only-of-type {\n",
       "        vertical-align: middle;\n",
       "    }\n",
       "\n",
       "    .dataframe tbody tr th {\n",
       "        vertical-align: top;\n",
       "    }\n",
       "\n",
       "    .dataframe thead th {\n",
       "        text-align: right;\n",
       "    }\n",
       "</style>\n",
       "<table border=\"1\" class=\"dataframe\">\n",
       "  <thead>\n",
       "    <tr style=\"text-align: right;\">\n",
       "      <th></th>\n",
       "      <th>Unnamed: 0</th>\n",
       "      <th>Name</th>\n",
       "      <th>City</th>\n",
       "      <th>CompanyName</th>\n",
       "      <th>BasicSalary</th>\n",
       "      <th>Gross Salary</th>\n",
       "    </tr>\n",
       "  </thead>\n",
       "  <tbody>\n",
       "    <tr>\n",
       "      <td>1</td>\n",
       "      <td>1</td>\n",
       "      <td>Parth</td>\n",
       "      <td>Surat</td>\n",
       "      <td>DIT</td>\n",
       "      <td>20000</td>\n",
       "      <td>23400.0</td>\n",
       "    </tr>\n",
       "    <tr>\n",
       "      <td>8</td>\n",
       "      <td>8</td>\n",
       "      <td>Vishvesh</td>\n",
       "      <td>Pune</td>\n",
       "      <td>DkTech</td>\n",
       "      <td>6500</td>\n",
       "      <td>7605.0</td>\n",
       "    </tr>\n",
       "    <tr>\n",
       "      <td>2</td>\n",
       "      <td>2</td>\n",
       "      <td>Akash</td>\n",
       "      <td>Bhuj</td>\n",
       "      <td>Gpp</td>\n",
       "      <td>25000</td>\n",
       "      <td>29250.0</td>\n",
       "    </tr>\n",
       "    <tr>\n",
       "      <td>7</td>\n",
       "      <td>7</td>\n",
       "      <td>Monil</td>\n",
       "      <td>Idar</td>\n",
       "      <td>JkTech</td>\n",
       "      <td>9000</td>\n",
       "      <td>10530.0</td>\n",
       "    </tr>\n",
       "    <tr>\n",
       "      <td>6</td>\n",
       "      <td>6</td>\n",
       "      <td>Rajesh</td>\n",
       "      <td>Valsad</td>\n",
       "      <td>Ldrp</td>\n",
       "      <td>34000</td>\n",
       "      <td>39780.0</td>\n",
       "    </tr>\n",
       "    <tr>\n",
       "      <td>3</td>\n",
       "      <td>3</td>\n",
       "      <td>Bharat</td>\n",
       "      <td>Ahmedabad</td>\n",
       "      <td>Ljp</td>\n",
       "      <td>15000</td>\n",
       "      <td>17550.0</td>\n",
       "    </tr>\n",
       "    <tr>\n",
       "      <td>9</td>\n",
       "      <td>9</td>\n",
       "      <td>Zaid</td>\n",
       "      <td>Gurgaon</td>\n",
       "      <td>MZTech</td>\n",
       "      <td>16000</td>\n",
       "      <td>18720.0</td>\n",
       "    </tr>\n",
       "    <tr>\n",
       "      <td>0</td>\n",
       "      <td>0</td>\n",
       "      <td>param</td>\n",
       "      <td>Ahmedabad</td>\n",
       "      <td>Nirma</td>\n",
       "      <td>30000</td>\n",
       "      <td>35100.0</td>\n",
       "    </tr>\n",
       "    <tr>\n",
       "      <td>5</td>\n",
       "      <td>5</td>\n",
       "      <td>Khushaal</td>\n",
       "      <td>Ahmedabad</td>\n",
       "      <td>Nirma</td>\n",
       "      <td>29500</td>\n",
       "      <td>34515.0</td>\n",
       "    </tr>\n",
       "    <tr>\n",
       "      <td>4</td>\n",
       "      <td>4</td>\n",
       "      <td>Jeet</td>\n",
       "      <td>Vadodra</td>\n",
       "      <td>SuryaFarma</td>\n",
       "      <td>20000</td>\n",
       "      <td>23400.0</td>\n",
       "    </tr>\n",
       "  </tbody>\n",
       "</table>\n",
       "</div>"
      ],
      "text/plain": [
       "   Unnamed: 0      Name       City CompanyName  BasicSalary  Gross Salary\n",
       "1           1     Parth      Surat         DIT        20000       23400.0\n",
       "8           8  Vishvesh       Pune      DkTech         6500        7605.0\n",
       "2           2     Akash       Bhuj         Gpp        25000       29250.0\n",
       "7           7     Monil       Idar      JkTech         9000       10530.0\n",
       "6           6    Rajesh     Valsad        Ldrp        34000       39780.0\n",
       "3           3    Bharat  Ahmedabad         Ljp        15000       17550.0\n",
       "9           9      Zaid    Gurgaon      MZTech        16000       18720.0\n",
       "0           0     param  Ahmedabad       Nirma        30000       35100.0\n",
       "5           5  Khushaal  Ahmedabad       Nirma        29500       34515.0\n",
       "4           4      Jeet    Vadodra  SuryaFarma        20000       23400.0"
      ]
     },
     "execution_count": 122,
     "metadata": {},
     "output_type": "execute_result"
    }
   ],
   "source": [
    "#2nd PART:\n",
    "\n",
    "print(\"\\n\")\n",
    "\n",
    "print(\"Displaying list of employees company wise:\")\n",
    "print(\"\\n\")\n",
    "dff.sort_values(by='CompanyName', ascending=True)          #Here, I have used sort_values function to sort values by company name"
   ]
  },
  {
   "cell_type": "markdown",
   "metadata": {},
   "source": [
    "# Explaination: \n",
    "In this I have used dff DataFrame in which sort_values() is used, which is sorting all details of employee by Company Name."
   ]
  },
  {
   "cell_type": "markdown",
   "metadata": {},
   "source": [
    "# END OF THE ASSIGNMNET\n",
    "Thank You."
   ]
  }
 ],
 "metadata": {
  "kernelspec": {
   "display_name": "Python 3",
   "language": "python",
   "name": "python3"
  },
  "language_info": {
   "codemirror_mode": {
    "name": "ipython",
    "version": 3
   },
   "file_extension": ".py",
   "mimetype": "text/x-python",
   "name": "python",
   "nbconvert_exporter": "python",
   "pygments_lexer": "ipython3",
   "version": "3.7.4"
  }
 },
 "nbformat": 4,
 "nbformat_minor": 2
}
